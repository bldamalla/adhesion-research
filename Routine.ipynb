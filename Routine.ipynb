{
 "cells": [
  {
   "cell_type": "markdown",
   "metadata": {
    "slideshow": {
     "slide_type": "slide"
    }
   },
   "source": [
    "# Routine.ipynb\n",
    "---\n",
    "\n",
    "In this IJulia notebook is presented the partially complete mathematical/statistical modeling routine using **Knowledge Systems**, and later in the future, **Quantum Transport**. A combination of the two components could provide for accurate theoretical (QM-ical) predictions and heuristic (ML) predictions."
   ]
  },
  {
   "cell_type": "markdown",
   "metadata": {
    "slideshow": {
     "slide_type": "slide"
    }
   },
   "source": [
    "## Load the images\n",
    "---\n",
    "\n",
    "The image data is located in another folder and separate microstructure images should be made."
   ]
  },
  {
   "cell_type": "code",
   "execution_count": null,
   "metadata": {
    "slideshow": {
     "slide_type": "fragment"
    }
   },
   "outputs": [],
   "source": [
    "using Images\n",
    "\n",
    "S1_ = float.(Gray.(load(\"data/images/S1.JPG\")))\n",
    "S2_ = float.(Gray.(load(\"data/images/S2.JPG\")))\n",
    "S3_ = float.(Gray.(load(\"data/images/S3.JPG\"))); y, x = size(S1_)"
   ]
  },
  {
   "cell_type": "markdown",
   "metadata": {
    "slideshow": {
     "slide_type": "slide"
    }
   },
   "source": [
    "## Prepare the microstructure images\n",
    "---\n",
    "\n",
    "Images will be segmented into two parts, the grain and the grain boundaries. For this, a modified thresholding technique will be used. After such, the values will be averaged for the whole ensemble."
   ]
  },
  {
   "cell_type": "code",
   "execution_count": null,
   "metadata": {
    "slideshow": {
     "slide_type": "subslide"
    }
   },
   "outputs": [],
   "source": [
    "rand_img = [(rand(1:y-300), rand(1:x-300)) for _ in 1:300]\n",
    "\n",
    "S1_cha = Vector{Vector{Float64}}()\n",
    "S2_cha = Vector{Vector{Float64}}()\n",
    "S3_cha = Vector{Vector{Float64}}()\n",
    "\n",
    "function pushstructtoimg(cha::Vector{Vector{Float64}}, root::Array{Float64, 2})\n",
    "    for (y, x) in rand_img\n",
    "        push!(cha, reshape(root[y:y+300, x:x+300], 301^2))\n",
    "    end\n",
    "end\n",
    "\n",
    "pushstructtoimg(S1_cha, S1_)\n",
    "pushstructtoimg(S2_cha, S2_)\n",
    "pushstructtoimg(S3_cha, S3_)"
   ]
  },
  {
   "cell_type": "markdown",
   "metadata": {
    "slideshow": {
     "slide_type": "slide"
    }
   },
   "source": [
    "## Prepare the external package for additional analyses code\n",
    "---\n",
    "\n",
    "Relevant code for strutural analyses is contained in an unpublished Julia package. Also prepare the needed assets for plotting. Here, the `plotly()` backend will be used."
   ]
  },
  {
   "cell_type": "code",
   "execution_count": null,
   "metadata": {
    "slideshow": {
     "slide_type": "fragment"
    }
   },
   "outputs": [],
   "source": [
    "include(\"src/Boundaries.jl\"); using Boundaries\n",
    "using Plots; plotly()\n",
    "\n",
    "xs = ys = [string(i) for i=-150:150]\n",
    "mdl = cgrad([parse(Colorant, \"#BBDEFB\"), parse(Colorant, \"#2196F3\"), parse(Colorant, \"#1976D2\")])"
   ]
  },
  {
   "cell_type": "markdown",
   "metadata": {
    "slideshow": {
     "slide_type": "slide"
    }
   },
   "source": [
    "## Get the ensemble-averaged two-point spatial correlations\n",
    "---\n",
    "\n",
    "This is a major part of the routine that is used for modeling the *probability density* of locating grain boundaries within the vicinity of another grain boundary. This assumes, however, that the structure is periodic in both axes."
   ]
  },
  {
   "cell_type": "code",
   "execution_count": null,
   "metadata": {
    "slideshow": {
     "slide_type": "subslide"
    }
   },
   "outputs": [],
   "source": [
    "S1_ave = Boundaries.ensemble_ave(S1_cha)\n",
    "S2_ave = Boundaries.ensemble_ave(S2_cha)\n",
    "S3_ave = Boundaries.ensemble_ave(S3_cha)\n",
    "\n",
    "S1_ave = Boundaries.convolve_mean(S1_ave)\n",
    "S2_ave = Boundaries.convolve_mean(S2_ave)\n",
    "S3_ave = Boundaries.convolve_mean(S3_ave)"
   ]
  },
  {
   "cell_type": "markdown",
   "metadata": {
    "slideshow": {
     "slide_type": "subslide"
    }
   },
   "source": [
    "### Probability density for first set of fabrication parameters\n",
    "---\n",
    " + $0.05M$ Zn$^{2+}$ with $0.8M$ NaOH solution\n",
    " + $100$ dipping cycles\n",
    " + $300^{\\circ}C$ annealing for 30 mins"
   ]
  },
  {
   "cell_type": "code",
   "execution_count": null,
   "metadata": {
    "slideshow": {
     "slide_type": "subslide"
    }
   },
   "outputs": [],
   "source": [
    "contour(xs, ys, reshape(S1_ave, 301, 301), aspect_ratio=1)"
   ]
  },
  {
   "cell_type": "markdown",
   "metadata": {
    "slideshow": {
     "slide_type": "subslide"
    }
   },
   "source": [
    "### Probability density for second set of fabrication parameters\n",
    "---\n",
    " + $0.05M$ Zn$^{2+}$ with $0.8M$ NaOH solution\n",
    " + $200$ dipping cycles\n",
    " + $300^{\\circ}C$ annealing for 30 mins"
   ]
  },
  {
   "cell_type": "code",
   "execution_count": null,
   "metadata": {
    "slideshow": {
     "slide_type": "subslide"
    }
   },
   "outputs": [],
   "source": [
    "contour(xs, ys, reshape(S2_ave, 301, 301), aspect_ratio=1)"
   ]
  },
  {
   "cell_type": "markdown",
   "metadata": {
    "slideshow": {
     "slide_type": "subslide"
    }
   },
   "source": [
    "### Probability density for third set of fabrication parameters\n",
    "---\n",
    " + $0.05M$ Zn$^{2+}$ with $0.8M$ NaOH **heated** solution\n",
    " + $100$ dipping cycles\n",
    " + $500^{\\circ}C$ annealing for 30 mins"
   ]
  },
  {
   "cell_type": "code",
   "execution_count": null,
   "metadata": {
    "slideshow": {
     "slide_type": "subslide"
    }
   },
   "outputs": [],
   "source": [
    "contour(xs, ys, reshape(S3_ave, 301, 301), aspect_ratio=1)"
   ]
  },
  {
   "cell_type": "markdown",
   "metadata": {
    "slideshow": {
     "slide_type": "skip"
    }
   },
   "source": [
    "### X-ray diffraction data\n",
    "---\n",
    "\n",
    "The following cells show the data for modeling raw data from raw XRD data (*.ASC file extension*)."
   ]
  },
  {
   "cell_type": "code",
   "execution_count": null,
   "metadata": {
    "slideshow": {
     "slide_type": "skip"
    }
   },
   "outputs": [],
   "source": [
    "using CSV, DataFrames\n",
    "\n",
    "df1 = CSV.read(\"data/xrd/S1.ASC\", delim=' ', header=[\"angle\", \"counts\"])\n",
    "df2 = CSV.read(\"data/xrd/S2.ASC\", delim=' ', header=[\"angle\", \"counts\"])\n",
    "df3 = CSV.read(\"data/xrd/S3.ASC\", delim=' ', header=[\"angle\", \"counts\"])\n",
    "\n",
    "plot(df1[:angle], [df1[:counts], df2[:counts].+75, df3[:counts].+375])"
   ]
  }
 ],
 "metadata": {
  "celltoolbar": "Slideshow",
  "kernelspec": {
   "display_name": "Julia 0.6.2",
   "language": "julia",
   "name": "julia-0.6"
  },
  "language_info": {
   "file_extension": ".jl",
   "mimetype": "application/julia",
   "name": "julia",
   "version": "0.6.2"
  }
 },
 "nbformat": 4,
 "nbformat_minor": 2
}
